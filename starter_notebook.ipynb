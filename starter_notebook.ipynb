{
  "cells": [
    {
      "cell_type": "markdown",
      "metadata": {
        "id": "jYdP0X_56ihc"
      },
      "source": [
        "## Importing Packages"
      ]
    },
    {
      "cell_type": "code",
      "execution_count": 182,
      "metadata": {
        "id": "EkkeWBgv6ihe"
      },
      "outputs": [],
      "source": [
        "import pandas as pd\n",
        "import numpy as np\n",
        "import matplotlib.pyplot as plt\n",
        "import seaborn as sns\n",
        "\n",
        "from sklearn.metrics import roc_auc_score\n",
        "from sklearn.model_selection import train_test_split\n",
        "\n",
        "from sklearn.linear_model import LogisticRegression\n",
        "\n",
        "from sklearn.model_selection import cross_val_score\n",
        "from sklearn.model_selection import StratifiedKFold\n",
        "\n",
        "import shap\n",
        "\n",
        "pd.set_option('display.max_columns', 500)"
      ]
    },
    {
      "cell_type": "markdown",
      "metadata": {
        "id": "HtuotPVn6ihg"
      },
      "source": [
        "### Defining functions"
      ]
    },
    {
      "cell_type": "code",
      "execution_count": null,
      "metadata": {
        "id": "YBBObZAq6ihg"
      },
      "outputs": [],
      "source": [
        "def create_lagged_plots(dataframe, lagged_columns: list, n_lags: list = [3,7,14,30]) -> None:\n",
        "    \"\"\"Creates plots of rolling mean.\n",
        "\n",
        "    Args:\n",
        "        dataframe (pd.DataFrame): Dataframe to create the charts.\n",
        "        lagged_columns (list): Column names to iterate through.\n",
        "        n_lags (list, optional): Rolling days. Defaults to [3,7,14,30].\n",
        "    \"\"\"\n",
        "\n",
        "    for day in n_lags:\n",
        "        for column in lagged_columns:\n",
        "            plt.figure(figsize=(20,5))\n",
        "            dataframe[column].rolling(window=day).mean().plot()\n",
        "            plt.title(f\"{day} day rolling mean for {column}\")\n",
        "            plt.show()\n",
        "\n",
        "def create_histograms(dataframe: pd.DataFrame, columns: list, n_bins: int, kde=True):\n",
        "\n",
        "    for col in columns:\n",
        "        plt.figure(figsize=(20,5))\n",
        "        sns.histplot(dataframe, x=dataframe[col], bins=n_bins, kde=kde)\n",
        "        plt.title(f\"Histplot of {col}, with n_bins = {n_bins}\")\n",
        "        plt.show()"
      ]
    },
    {
      "cell_type": "code",
      "execution_count": 226,
      "metadata": {
        "id": "8ASThmEc6ihg"
      },
      "outputs": [],
      "source": [
        "train = pd.read_csv(\"drive/MyDrive/Colab Notebooks/kaggle/comp_rainfall/train.csv\")\n",
        "test = pd.read_csv(\"drive/MyDrive/Colab Notebooks/kaggle/comp_rainfall/test.csv\")"
      ]
    },
    {
      "cell_type": "code",
      "execution_count": 233,
      "metadata": {
        "id": "rAMaZCaV6ihg"
      },
      "outputs": [],
      "source": [
        "X = train.drop('rainfall', axis=1)\n",
        "y = train['rainfall']\n",
        "\n",
        "X_train, X_test, y_train, y_test = train_test_split(X,y, shuffle=False, stratify=None, random_state=42)"
      ]
    },
    {
      "cell_type": "code",
      "execution_count": 234,
      "metadata": {
        "id": "H8-iirpP6ihg"
      },
      "outputs": [],
      "source": [
        "# Interactive features:\n",
        "X_train[\"cloud_sun_ratio\"] = X_train[\"cloud\"] / (X_train[\"sunshine\"] + 1)\n",
        "X_test[\"cloud_sun_ratio\"] = X_test[\"cloud\"] / (X_test[\"sunshine\"] + 1)\n",
        "\n",
        "X_train[\"sun_humidity_interaction\"] = X_train[\"sunshine\"] * X_train[\"humidity\"]\n",
        "X_test[\"sun_humidity_interaction\"] = X_test[\"sunshine\"] * X_test[\"humidity\"]\n",
        "\n",
        "X_train[\"saturation_deficit\"] = (X_train[\"temparature\"] - X_train[\"dewpoint\"]) / (X_train[\"humidity\"] + 1)\n",
        "X_test[\"saturation_deficit\"] = (X_test[\"temparature\"] - X_test[\"dewpoint\"]) / (X_test[\"humidity\"] + 1)\n",
        "\n",
        "X_train[\"saturation_ratio\"] = X_train[\"dewpoint\"] / (X_train[\"temparature\"] + 1)\n",
        "X_test[\"saturation_ratio\"] = X_test[\"dewpoint\"] / (X_test[\"temparature\"] + 1)\n",
        "\n",
        "X_train['weather_index'] = (0.4 * X_train['humidity']) + (0.3 * X_train['cloud']) - (0.3 * X_train['sunshine'])\n",
        "X_test['weather_index'] = (0.4 * X_test['humidity']) + (0.3 * X_test['cloud']) - (0.3 * X_test['sunshine'])"
      ]
    },
    {
      "cell_type": "code",
      "execution_count": 235,
      "metadata": {
        "id": "RoxvWPgM6ihh",
        "outputId": "276808b7-5a00-43a8-9cba-ba901fcbc8f8",
        "colab": {
          "base_uri": "https://localhost:8080/"
        }
      },
      "outputs": [
        {
          "output_type": "stream",
          "name": "stderr",
          "text": [
            "/usr/local/lib/python3.11/dist-packages/sklearn/linear_model/_logistic.py:465: ConvergenceWarning: lbfgs failed to converge (status=1):\n",
            "STOP: TOTAL NO. of ITERATIONS REACHED LIMIT.\n",
            "\n",
            "Increase the number of iterations (max_iter) or scale the data as shown in:\n",
            "    https://scikit-learn.org/stable/modules/preprocessing.html\n",
            "Please also refer to the documentation for alternative solver options:\n",
            "    https://scikit-learn.org/stable/modules/linear_model.html#logistic-regression\n",
            "  n_iter_i = _check_optimize_result(\n"
          ]
        },
        {
          "output_type": "execute_result",
          "data": {
            "text/plain": [
              "np.float64(0.8851076040172167)"
            ]
          },
          "metadata": {},
          "execution_count": 235
        }
      ],
      "source": [
        "logreg_classifier = LogisticRegression()\n",
        "logreg_classifier.fit(X_train, y_train)\n",
        "\n",
        "y_preds = logreg_classifier.predict_proba(X_test)\n",
        "y_preds_proba = [pred[1] for pred in y_preds]\n",
        "\n",
        "roc_auc_score(y_test, y_preds_proba)"
      ]
    },
    {
      "cell_type": "code",
      "execution_count": null,
      "metadata": {
        "id": "Fj0us-FF6ihh"
      },
      "outputs": [],
      "source": [
        "# Use SHAP's linear explainer (suitable for logistic regression)\n",
        "explainer = shap.Explainer(logreg_classifier, X_train)\n",
        "shap_values = explainer(X_test)"
      ]
    },
    {
      "cell_type": "code",
      "execution_count": null,
      "metadata": {
        "id": "DPYE-b9y6ihh"
      },
      "outputs": [],
      "source": [
        "shap.summary_plot(shap_values, X_test)"
      ]
    },
    {
      "cell_type": "code",
      "execution_count": null,
      "metadata": {
        "id": "EjU5J9m76ihh"
      },
      "outputs": [],
      "source": [
        "shap.plots.bar(shap_values)"
      ]
    },
    {
      "cell_type": "code",
      "execution_count": 236,
      "metadata": {
        "id": "4xNj4I-L6ihh",
        "outputId": "c2bb10f8-a922-4a0d-ed39-3186f5a42709",
        "colab": {
          "base_uri": "https://localhost:8080/"
        }
      },
      "outputs": [
        {
          "output_type": "stream",
          "name": "stderr",
          "text": [
            "/usr/local/lib/python3.11/dist-packages/sklearn/linear_model/_logistic.py:465: ConvergenceWarning: lbfgs failed to converge (status=1):\n",
            "STOP: TOTAL NO. of ITERATIONS REACHED LIMIT.\n",
            "\n",
            "Increase the number of iterations (max_iter) or scale the data as shown in:\n",
            "    https://scikit-learn.org/stable/modules/preprocessing.html\n",
            "Please also refer to the documentation for alternative solver options:\n",
            "    https://scikit-learn.org/stable/modules/linear_model.html#logistic-regression\n",
            "  n_iter_i = _check_optimize_result(\n"
          ]
        }
      ],
      "source": [
        "# Generating the submission\n",
        "\n",
        "train = pd.read_csv(\"drive/MyDrive/Colab Notebooks/kaggle/comp_rainfall/train.csv\")\n",
        "test = pd.read_csv(\"drive/MyDrive/Colab Notebooks/kaggle/comp_rainfall/test.csv\")\n",
        "\n",
        "\n",
        "train[\"cloud_sun_ratio\"] = train[\"cloud\"] / (train[\"sunshine\"] + 1)\n",
        "test[\"cloud_sun_ratio\"] = test[\"cloud\"] / (test[\"sunshine\"] + 1)\n",
        "\n",
        "train[\"sun_humidity_interaction\"] = train[\"sunshine\"] * train[\"humidity\"]\n",
        "test[\"sun_humidity_interaction\"] = test[\"sunshine\"] * test[\"humidity\"]\n",
        "\n",
        "train[\"saturation_deficit\"] = (train[\"temparature\"] - train[\"dewpoint\"]) / (train[\"humidity\"] + 1)\n",
        "test[\"saturation_deficit\"] = (test[\"temparature\"] - test[\"dewpoint\"]) / (test[\"humidity\"] + 1)\n",
        "\n",
        "\n",
        "train[\"saturation_ratio\"] = train[\"dewpoint\"] / (train[\"temparature\"] + 1)\n",
        "test[\"saturation_ratio\"] = test[\"dewpoint\"] / (test[\"temparature\"] + 1)\n",
        "\n",
        "train['weather_index'] = (0.4 * train['humidity']) + (0.3 * train['cloud']) - (0.3 * train['sunshine'])\n",
        "test['weather_index'] = (0.4 * test['humidity']) + (0.3 * test['cloud']) - (0.3 * test['sunshine'])\n",
        "\n",
        "train.fillna(0, inplace=True)\n",
        "test.fillna(0, inplace=True)\n",
        "\n",
        "X = train.drop('rainfall', axis=1)\n",
        "y = train['rainfall']\n",
        "\n",
        "\n",
        "xgb_classifier = LogisticRegression()\n",
        "xgb_classifier.fit(X, y)\n",
        "\n",
        "y_preds = xgb_classifier.predict_proba(test[X.columns])\n",
        "y_preds_proba = [pred[1] for pred in y_preds]\n",
        "\n",
        "test['rainfall'] = y_preds_proba\n",
        "test[['id', 'rainfall']].to_csv(\"submission.csv\", index=False)"
      ]
    }
  ],
  "metadata": {
    "kernelspec": {
      "display_name": "Python 3",
      "language": "python",
      "name": "python3"
    },
    "language_info": {
      "codemirror_mode": {
        "name": "ipython",
        "version": 3
      },
      "file_extension": ".py",
      "mimetype": "text/x-python",
      "name": "python",
      "nbconvert_exporter": "python",
      "pygments_lexer": "ipython3",
      "version": "3.12.1"
    },
    "colab": {
      "provenance": []
    }
  },
  "nbformat": 4,
  "nbformat_minor": 0
}